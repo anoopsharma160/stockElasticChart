{
 "cells": [
  {
   "cell_type": "code",
   "execution_count": null,
   "metadata": {},
   "outputs": [],
   "source": [
    "import pandas as pd\n",
    "import matplotlib.pyplot as plt\n",
    "import matplotlib"
   ]
  },
  {
   "cell_type": "code",
   "execution_count": null,
   "metadata": {},
   "outputs": [],
   "source": [
    "data=pd.read_csv(\"BANKNIFTY-CE-30-May-2019.csv\")\n",
    "\n",
    "\n",
    "data_pe=pd.read_csv(\"BANKNIFTY-PE-30-May-2019.csv\")\n",
    "data_pe.head(1)"
   ]
  },
  {
   "cell_type": "code",
   "execution_count": null,
   "metadata": {},
   "outputs": [],
   "source": [
    "data_ce=data.groupby('Date',as_index=False).agg({'Open Int':'sum','Change in OI':'sum'})\n",
    "data_pe=data_pe.groupby('Date',as_index=False).agg({'Open Int':'sum','Change in OI':'sum'})\n",
    "\n",
    "data_ce['Date']=pd.to_datetime(data_ce.Date)\n",
    "data_ce.sort_values('Date',ascending=False)\n"
   ]
  },
  {
   "cell_type": "code",
   "execution_count": null,
   "metadata": {},
   "outputs": [],
   "source": [
    "data_pe['Date']=pd.to_datetime(data_pe.Date)\n",
    "data_pe.sort_values('Date',ascending=False)"
   ]
  },
  {
   "cell_type": "code",
   "execution_count": null,
   "metadata": {},
   "outputs": [],
   "source": [
    "newDS=data_ce.join(data_pe,lsuffix='_CE',rsuffix='_PE').sort_values('Date_CE',ascending=False)\n",
    "newDS"
   ]
  },
  {
   "cell_type": "code",
   "execution_count": null,
   "metadata": {},
   "outputs": [],
   "source": [
    "\n",
    "\n",
    "dates = matplotlib.dates.date2num(newDS['Date_CE'])\n",
    "plt.plot_date(dates,newDS['Open Int_CE'])\n",
    "plt.plot_date(dates,newDS['Change in OI_CE'])\n",
    "\n",
    "plt.plot_date(dates,newDS['Open Int_PE'])\n",
    "plt.plot_date(dates,newDS['Change in OI_PE'])\n",
    "fig = matplotlib.pyplot.gcf()\n",
    "fig.set_size_inches(18.5, 10.5)\n"
   ]
  },
  {
   "cell_type": "code",
   "execution_count": null,
   "metadata": {},
   "outputs": [],
   "source": [
    "dates = newDS['Date_CE']\n",
    "# y=newDS['Open Int_CE']\n",
    "plt.plot(dates,newDS['Open Int_CE'])\n",
    "plt.plot(dates,newDS['Open Int_PE'])\n",
    "\n",
    "plt.plot(dates,newDS['Change in OI_CE'])\n",
    "plt.plot(dates,newDS['Change in OI_PE'])\n",
    "\n",
    "\n",
    "fig = matplotlib.pyplot.gcf()\n",
    "fig.set_size_inches(18.5, 10.5)\n",
    "plt.gcf().autofmt_xdate()\n",
    "plt.legend()\n",
    "plt.show()\n"
   ]
  },
  {
   "cell_type": "code",
   "execution_count": null,
   "metadata": {},
   "outputs": [],
   "source": []
  },
  {
   "cell_type": "markdown",
   "metadata": {},
   "source": [
    "## "
   ]
  },
  {
   "cell_type": "code",
   "execution_count": null,
   "metadata": {},
   "outputs": [],
   "source": []
  },
  {
   "cell_type": "code",
   "execution_count": null,
   "metadata": {},
   "outputs": [],
   "source": []
  }
 ],
 "metadata": {
  "kernelspec": {
   "display_name": "Python 3",
   "language": "python",
   "name": "python3"
  },
  "language_info": {
   "codemirror_mode": {
    "name": "ipython",
    "version": 3
   },
   "file_extension": ".py",
   "mimetype": "text/x-python",
   "name": "python",
   "nbconvert_exporter": "python",
   "pygments_lexer": "ipython3",
   "version": "3.7.4"
  }
 },
 "nbformat": 4,
 "nbformat_minor": 2
}
