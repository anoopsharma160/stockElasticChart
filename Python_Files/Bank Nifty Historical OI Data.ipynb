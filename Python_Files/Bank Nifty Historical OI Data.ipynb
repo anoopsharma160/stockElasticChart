{
 "cells": [
  {
   "cell_type": "code",
   "execution_count": 2,
   "metadata": {},
   "outputs": [],
   "source": [
    "import pandas as pd\n",
    "import matplotlib.pyplot as plt\n",
    "import matplotlib"
   ]
  },
  {
   "cell_type": "code",
   "execution_count": 3,
   "metadata": {},
   "outputs": [
    {
     "data": {
      "text/html": [
       "<div>\n",
       "<style scoped>\n",
       "    .dataframe tbody tr th:only-of-type {\n",
       "        vertical-align: middle;\n",
       "    }\n",
       "\n",
       "    .dataframe tbody tr th {\n",
       "        vertical-align: top;\n",
       "    }\n",
       "\n",
       "    .dataframe thead th {\n",
       "        text-align: right;\n",
       "    }\n",
       "</style>\n",
       "<table border=\"1\" class=\"dataframe\">\n",
       "  <thead>\n",
       "    <tr style=\"text-align: right;\">\n",
       "      <th></th>\n",
       "      <th>Symbol</th>\n",
       "      <th>Date</th>\n",
       "      <th>Expiry</th>\n",
       "      <th>Option Type</th>\n",
       "      <th>Strike Price</th>\n",
       "      <th>Open</th>\n",
       "      <th>High</th>\n",
       "      <th>Low</th>\n",
       "      <th>Close</th>\n",
       "      <th>LTP</th>\n",
       "      <th>Settle Price</th>\n",
       "      <th>No. of contracts</th>\n",
       "      <th>Turnover in Lacs</th>\n",
       "      <th>Premium Turnover in Lacs</th>\n",
       "      <th>Open Int</th>\n",
       "      <th>Change in OI</th>\n",
       "      <th>Underlying Value</th>\n",
       "    </tr>\n",
       "  </thead>\n",
       "  <tbody>\n",
       "    <tr>\n",
       "      <td>0</td>\n",
       "      <td>NIFTY</td>\n",
       "      <td>03-Apr-2020</td>\n",
       "      <td>23-Apr-2020</td>\n",
       "      <td>PE</td>\n",
       "      <td>12500</td>\n",
       "      <td>0.0</td>\n",
       "      <td>0.0</td>\n",
       "      <td>0.0</td>\n",
       "      <td>498.85</td>\n",
       "      <td>0.0</td>\n",
       "      <td>4386.95</td>\n",
       "      <td>0</td>\n",
       "      <td>0.0</td>\n",
       "      <td>0.0</td>\n",
       "      <td>0</td>\n",
       "      <td>0</td>\n",
       "      <td>8083.8</td>\n",
       "    </tr>\n",
       "  </tbody>\n",
       "</table>\n",
       "</div>"
      ],
      "text/plain": [
       "  Symbol         Date       Expiry Option Type  Strike Price  Open  High  Low  \\\n",
       "0  NIFTY  03-Apr-2020  23-Apr-2020          PE         12500   0.0   0.0  0.0   \n",
       "\n",
       "    Close  LTP  Settle Price  No. of contracts  Turnover in Lacs  \\\n",
       "0  498.85  0.0       4386.95                 0               0.0   \n",
       "\n",
       "   Premium Turnover in Lacs  Open Int  Change in OI  Underlying Value  \n",
       "0                       0.0         0             0            8083.8  "
      ]
     },
     "execution_count": 3,
     "metadata": {},
     "output_type": "execute_result"
    }
   ],
   "source": [
    "data=pd.read_csv(\"/Users/anoop.sharma/Downloads/OPTIDX_NIFTY_CE_02-04-2020_TO_16-04-2020.csv\")\n",
    "\n",
    "\n",
    "data_pe=pd.read_csv(\"/Users/anoop.sharma/Downloads/OPTIDX_NIFTY_PE_02-04-2020_TO_16-04-2020.csv\")\n",
    "data_pe.head(1)"
   ]
  },
  {
   "cell_type": "code",
   "execution_count": 4,
   "metadata": {},
   "outputs": [
    {
     "data": {
      "text/html": [
       "<div>\n",
       "<style scoped>\n",
       "    .dataframe tbody tr th:only-of-type {\n",
       "        vertical-align: middle;\n",
       "    }\n",
       "\n",
       "    .dataframe tbody tr th {\n",
       "        vertical-align: top;\n",
       "    }\n",
       "\n",
       "    .dataframe thead th {\n",
       "        text-align: right;\n",
       "    }\n",
       "</style>\n",
       "<table border=\"1\" class=\"dataframe\">\n",
       "  <thead>\n",
       "    <tr style=\"text-align: right;\">\n",
       "      <th></th>\n",
       "      <th>Date</th>\n",
       "      <th>Open Int</th>\n",
       "      <th>Change in OI</th>\n",
       "    </tr>\n",
       "  </thead>\n",
       "  <tbody>\n",
       "    <tr>\n",
       "      <td>6</td>\n",
       "      <td>2020-04-16</td>\n",
       "      <td>4838775</td>\n",
       "      <td>3517350</td>\n",
       "    </tr>\n",
       "    <tr>\n",
       "      <td>5</td>\n",
       "      <td>2020-04-15</td>\n",
       "      <td>1321425</td>\n",
       "      <td>1110750</td>\n",
       "    </tr>\n",
       "    <tr>\n",
       "      <td>4</td>\n",
       "      <td>2020-04-13</td>\n",
       "      <td>210675</td>\n",
       "      <td>198300</td>\n",
       "    </tr>\n",
       "    <tr>\n",
       "      <td>3</td>\n",
       "      <td>2020-04-09</td>\n",
       "      <td>12375</td>\n",
       "      <td>6825</td>\n",
       "    </tr>\n",
       "    <tr>\n",
       "      <td>2</td>\n",
       "      <td>2020-04-08</td>\n",
       "      <td>5550</td>\n",
       "      <td>1650</td>\n",
       "    </tr>\n",
       "    <tr>\n",
       "      <td>1</td>\n",
       "      <td>2020-04-07</td>\n",
       "      <td>3900</td>\n",
       "      <td>1650</td>\n",
       "    </tr>\n",
       "    <tr>\n",
       "      <td>0</td>\n",
       "      <td>2020-04-03</td>\n",
       "      <td>2250</td>\n",
       "      <td>225</td>\n",
       "    </tr>\n",
       "  </tbody>\n",
       "</table>\n",
       "</div>"
      ],
      "text/plain": [
       "        Date  Open Int  Change in OI\n",
       "6 2020-04-16   4838775       3517350\n",
       "5 2020-04-15   1321425       1110750\n",
       "4 2020-04-13    210675        198300\n",
       "3 2020-04-09     12375          6825\n",
       "2 2020-04-08      5550          1650\n",
       "1 2020-04-07      3900          1650\n",
       "0 2020-04-03      2250           225"
      ]
     },
     "execution_count": 4,
     "metadata": {},
     "output_type": "execute_result"
    }
   ],
   "source": [
    "data_ce=data.groupby('Date',as_index=False).agg({'Open Int':'sum','Change in OI':'sum'})\n",
    "data_pe=data_pe.groupby('Date',as_index=False).agg({'Open Int':'sum','Change in OI':'sum'})\n",
    "\n",
    "data_ce['Date']=pd.to_datetime(data_ce.Date)\n",
    "data_ce.sort_values('Date',ascending=False)\n"
   ]
  },
  {
   "cell_type": "code",
   "execution_count": 5,
   "metadata": {},
   "outputs": [
    {
     "data": {
      "text/html": [
       "<div>\n",
       "<style scoped>\n",
       "    .dataframe tbody tr th:only-of-type {\n",
       "        vertical-align: middle;\n",
       "    }\n",
       "\n",
       "    .dataframe tbody tr th {\n",
       "        vertical-align: top;\n",
       "    }\n",
       "\n",
       "    .dataframe thead th {\n",
       "        text-align: right;\n",
       "    }\n",
       "</style>\n",
       "<table border=\"1\" class=\"dataframe\">\n",
       "  <thead>\n",
       "    <tr style=\"text-align: right;\">\n",
       "      <th></th>\n",
       "      <th>Date</th>\n",
       "      <th>Open Int</th>\n",
       "      <th>Change in OI</th>\n",
       "    </tr>\n",
       "  </thead>\n",
       "  <tbody>\n",
       "    <tr>\n",
       "      <td>6</td>\n",
       "      <td>2020-04-16</td>\n",
       "      <td>5334225</td>\n",
       "      <td>3526425</td>\n",
       "    </tr>\n",
       "    <tr>\n",
       "      <td>5</td>\n",
       "      <td>2020-04-15</td>\n",
       "      <td>1807800</td>\n",
       "      <td>1283175</td>\n",
       "    </tr>\n",
       "    <tr>\n",
       "      <td>4</td>\n",
       "      <td>2020-04-13</td>\n",
       "      <td>524625</td>\n",
       "      <td>471300</td>\n",
       "    </tr>\n",
       "    <tr>\n",
       "      <td>3</td>\n",
       "      <td>2020-04-09</td>\n",
       "      <td>53325</td>\n",
       "      <td>38925</td>\n",
       "    </tr>\n",
       "    <tr>\n",
       "      <td>2</td>\n",
       "      <td>2020-04-08</td>\n",
       "      <td>14400</td>\n",
       "      <td>5400</td>\n",
       "    </tr>\n",
       "    <tr>\n",
       "      <td>1</td>\n",
       "      <td>2020-04-07</td>\n",
       "      <td>9000</td>\n",
       "      <td>7950</td>\n",
       "    </tr>\n",
       "    <tr>\n",
       "      <td>0</td>\n",
       "      <td>2020-04-03</td>\n",
       "      <td>1050</td>\n",
       "      <td>450</td>\n",
       "    </tr>\n",
       "  </tbody>\n",
       "</table>\n",
       "</div>"
      ],
      "text/plain": [
       "        Date  Open Int  Change in OI\n",
       "6 2020-04-16   5334225       3526425\n",
       "5 2020-04-15   1807800       1283175\n",
       "4 2020-04-13    524625        471300\n",
       "3 2020-04-09     53325         38925\n",
       "2 2020-04-08     14400          5400\n",
       "1 2020-04-07      9000          7950\n",
       "0 2020-04-03      1050           450"
      ]
     },
     "execution_count": 5,
     "metadata": {},
     "output_type": "execute_result"
    }
   ],
   "source": [
    "data_pe['Date']=pd.to_datetime(data_pe.Date)\n",
    "data_pe.sort_values('Date',ascending=False)"
   ]
  },
  {
   "cell_type": "code",
   "execution_count": 6,
   "metadata": {},
   "outputs": [
    {
     "data": {
      "text/html": [
       "<div>\n",
       "<style scoped>\n",
       "    .dataframe tbody tr th:only-of-type {\n",
       "        vertical-align: middle;\n",
       "    }\n",
       "\n",
       "    .dataframe tbody tr th {\n",
       "        vertical-align: top;\n",
       "    }\n",
       "\n",
       "    .dataframe thead th {\n",
       "        text-align: right;\n",
       "    }\n",
       "</style>\n",
       "<table border=\"1\" class=\"dataframe\">\n",
       "  <thead>\n",
       "    <tr style=\"text-align: right;\">\n",
       "      <th></th>\n",
       "      <th>Date_CE</th>\n",
       "      <th>Open Int_CE</th>\n",
       "      <th>Change in OI_CE</th>\n",
       "      <th>Date_PE</th>\n",
       "      <th>Open Int_PE</th>\n",
       "      <th>Change in OI_PE</th>\n",
       "    </tr>\n",
       "  </thead>\n",
       "  <tbody>\n",
       "    <tr>\n",
       "      <td>6</td>\n",
       "      <td>2020-04-16</td>\n",
       "      <td>4838775</td>\n",
       "      <td>3517350</td>\n",
       "      <td>2020-04-16</td>\n",
       "      <td>5334225</td>\n",
       "      <td>3526425</td>\n",
       "    </tr>\n",
       "    <tr>\n",
       "      <td>5</td>\n",
       "      <td>2020-04-15</td>\n",
       "      <td>1321425</td>\n",
       "      <td>1110750</td>\n",
       "      <td>2020-04-15</td>\n",
       "      <td>1807800</td>\n",
       "      <td>1283175</td>\n",
       "    </tr>\n",
       "    <tr>\n",
       "      <td>4</td>\n",
       "      <td>2020-04-13</td>\n",
       "      <td>210675</td>\n",
       "      <td>198300</td>\n",
       "      <td>2020-04-13</td>\n",
       "      <td>524625</td>\n",
       "      <td>471300</td>\n",
       "    </tr>\n",
       "    <tr>\n",
       "      <td>3</td>\n",
       "      <td>2020-04-09</td>\n",
       "      <td>12375</td>\n",
       "      <td>6825</td>\n",
       "      <td>2020-04-09</td>\n",
       "      <td>53325</td>\n",
       "      <td>38925</td>\n",
       "    </tr>\n",
       "    <tr>\n",
       "      <td>2</td>\n",
       "      <td>2020-04-08</td>\n",
       "      <td>5550</td>\n",
       "      <td>1650</td>\n",
       "      <td>2020-04-08</td>\n",
       "      <td>14400</td>\n",
       "      <td>5400</td>\n",
       "    </tr>\n",
       "    <tr>\n",
       "      <td>1</td>\n",
       "      <td>2020-04-07</td>\n",
       "      <td>3900</td>\n",
       "      <td>1650</td>\n",
       "      <td>2020-04-07</td>\n",
       "      <td>9000</td>\n",
       "      <td>7950</td>\n",
       "    </tr>\n",
       "    <tr>\n",
       "      <td>0</td>\n",
       "      <td>2020-04-03</td>\n",
       "      <td>2250</td>\n",
       "      <td>225</td>\n",
       "      <td>2020-04-03</td>\n",
       "      <td>1050</td>\n",
       "      <td>450</td>\n",
       "    </tr>\n",
       "  </tbody>\n",
       "</table>\n",
       "</div>"
      ],
      "text/plain": [
       "     Date_CE  Open Int_CE  Change in OI_CE    Date_PE  Open Int_PE  \\\n",
       "6 2020-04-16      4838775          3517350 2020-04-16      5334225   \n",
       "5 2020-04-15      1321425          1110750 2020-04-15      1807800   \n",
       "4 2020-04-13       210675           198300 2020-04-13       524625   \n",
       "3 2020-04-09        12375             6825 2020-04-09        53325   \n",
       "2 2020-04-08         5550             1650 2020-04-08        14400   \n",
       "1 2020-04-07         3900             1650 2020-04-07         9000   \n",
       "0 2020-04-03         2250              225 2020-04-03         1050   \n",
       "\n",
       "   Change in OI_PE  \n",
       "6          3526425  \n",
       "5          1283175  \n",
       "4           471300  \n",
       "3            38925  \n",
       "2             5400  \n",
       "1             7950  \n",
       "0              450  "
      ]
     },
     "execution_count": 6,
     "metadata": {},
     "output_type": "execute_result"
    }
   ],
   "source": [
    "newDS=data_ce.join(data_pe,lsuffix='_CE',rsuffix='_PE').sort_values('Date_CE',ascending=False)\n",
    "newDS"
   ]
  },
  {
   "cell_type": "code",
   "execution_count": 7,
   "metadata": {},
   "outputs": [
    {
     "name": "stderr",
     "output_type": "stream",
     "text": [
      "/Users/anoop.sharma/opt/anaconda3/lib/python3.7/site-packages/pandas/plotting/_matplotlib/converter.py:103: FutureWarning: Using an implicitly registered datetime converter for a matplotlib plotting method. The converter was registered by pandas on import. Future versions of pandas will require you to explicitly register matplotlib converters.\n",
      "\n",
      "To register the converters:\n",
      "\t>>> from pandas.plotting import register_matplotlib_converters\n",
      "\t>>> register_matplotlib_converters()\n",
      "  warnings.warn(msg, FutureWarning)\n"
     ]
    },
    {
     "data": {
      "image/png": "[encoded data removed]",
      "text/plain": [
       "<Figure size 1332x756 with 1 Axes>"
      ]
     },
     "metadata": {
      "needs_background": "light"
     },
     "output_type": "display_data"
    }
   ],
   "source": [
    "\n",
    "\n",
    "dates = matplotlib.dates.date2num(newDS['Date_CE'])\n",
    "plt.plot_date(dates,newDS['Open Int_CE'])\n",
    "plt.plot_date(dates,newDS['Change in OI_CE'])\n",
    "\n",
    "plt.plot_date(dates,newDS['Open Int_PE'])\n",
    "plt.plot_date(dates,newDS['Change in OI_PE'])\n",
    "fig = matplotlib.pyplot.gcf()\n",
    "fig.set_size_inches(18.5, 10.5)\n"
   ]
  },
  {
   "cell_type": "code",
   "execution_count": 9,
   "metadata": {},
   "outputs": [
    {
     "name": "stderr",
     "output_type": "stream",
     "text": [
      "No handles with labels found to put in legend.\n"
     ]
    },
    {
     "data": {
      "image/png": "[encoded data removed]",
      "text/plain": [
       "<Figure size 1332x756 with 1 Axes>"
      ]
     },
     "metadata": {
      "needs_background": "light"
     },
     "output_type": "display_data"
    }
   ],
   "source": [
    "dates = newDS['Date_CE']\n",
    "# y=newDS['Open Int_CE']\n",
    "plt.plot(dates,newDS['Open Int_CE'])\n",
    "plt.plot(dates,newDS['Open Int_PE'])\n",
    "\n",
    "plt.plot(dates,newDS['Change in OI_CE'])\n",
    "plt.plot(dates,newDS['Change in OI_PE'])\n",
    "\n",
    "\n",
    "fig = matplotlib.pyplot.gcf()\n",
    "fig.set_size_inches(18.5, 10.5)\n",
    "plt.gcf().autofmt_xdate()\n",
    "plt.legend()\n",
    "plt.show()\n"
   ]
  },
  {
   "cell_type": "code",
   "execution_count": null,
   "metadata": {},
   "outputs": [],
   "source": []
  },
  {
   "cell_type": "markdown",
   "metadata": {},
   "source": [
    "## "
   ]
  },
  {
   "cell_type": "code",
   "execution_count": null,
   "metadata": {},
   "outputs": [],
   "source": []
  },
  {
   "cell_type": "code",
   "execution_count": null,
   "metadata": {},
   "outputs": [],
   "source": []
  }
 ],
 "metadata": {
  "kernelspec": {
   "display_name": "Python 3",
   "language": "python",
   "name": "python3"
  },
  "language_info": {
   "codemirror_mode": {
    "name": "ipython",
    "version": 3
   },
   "file_extension": ".py",
   "mimetype": "text/x-python",
   "name": "python",
   "nbconvert_exporter": "python",
   "pygments_lexer": "ipython3",
   "version": "3.7.4"
  }
 },
 "nbformat": 4,
 "nbformat_minor": 2
}
